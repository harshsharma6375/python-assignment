{
 "cells": [
  {
   "cell_type": "code",
   "execution_count": null,
   "id": "b275a02f-3b24-4baa-8506-e854cf0c6e0d",
   "metadata": {},
   "outputs": [],
   "source": [
    "Write a program to print all natural numbers from 1 to n. – using while loop\n",
    "Write a program to print all natural numbers in reverse (from n to 1). – using while loop\n",
    "Write a program to print all alphabets from a to z. – using while loop\n",
    "Write a program to print all even numbers between 1 to 100. – using while loop\n",
    "Write a program to find the sum of all odd numbers between 1 to n.\n",
    "Write a program to count the number of digits in a number.\n",
    "Write a program to calculate the sum of digits of a number.\n",
    "Write a program to find the first and last digit of a number.\n",
    "Write a program to find the sum of first and last digit of a number. 10.Write a program to enter a number and print its reverse. 11.Write a program to find the power of a number"
   ]
  },
  {
   "cell_type": "markdown",
   "id": "5d93195c-740e-466f-803a-455330813402",
   "metadata": {},
   "source": [
    "Q1 )Write a program to print all natural numbers from 1 to n. – using while loop"
   ]
  },
  {
   "cell_type": "code",
   "execution_count": 1,
   "id": "23de8ddf-2355-491e-8223-bebecedbdaef",
   "metadata": {},
   "outputs": [
    {
     "name": "stdout",
     "output_type": "stream",
     "text": [
      "1\n",
      "2\n",
      "3\n",
      "4\n",
      "5\n",
      "6\n",
      "7\n",
      "8\n",
      "9\n"
     ]
    }
   ],
   "source": [
    "i = 1\n",
    "while(i<10):\n",
    "    print(i)\n",
    "    i+=1"
   ]
  },
  {
   "cell_type": "markdown",
   "id": "a094746f-5b6e-4b1e-9681-d636651e9d7e",
   "metadata": {},
   "source": [
    "Q2)Write a program to print all natural numbers in reverse (from n to 1). – using while loop"
   ]
  },
  {
   "cell_type": "code",
   "execution_count": 2,
   "id": "8cd5a414-3409-4a04-8dab-852a4e377f76",
   "metadata": {},
   "outputs": [],
   "source": [
    "n = 10\n",
    "while(i>10):\n",
    "    print(i)\n",
    "    i-=1"
   ]
  },
  {
   "cell_type": "markdown",
   "id": "df900b84-57a6-4aa6-b289-0cb0206d05a3",
   "metadata": {},
   "source": [
    "Q3)Write a program to print all alphabets from a to z. – using while loop"
   ]
  },
  {
   "cell_type": "code",
   "execution_count": null,
   "id": "c90886d3-321d-4d55-85ae-6d14d406ffb0",
   "metadata": {},
   "outputs": [],
   "source": [
    "i = 1\n",
    "while(i<=100):\n",
    "    if "
   ]
  },
  {
   "cell_type": "code",
   "execution_count": null,
   "id": "817b2404-062e-43d6-a756-16e36b8e0339",
   "metadata": {},
   "outputs": [],
   "source": []
  },
  {
   "cell_type": "markdown",
   "id": "1d9a1a08-3cb3-4d5b-8016-d7049b4613df",
   "metadata": {},
   "source": [
    "Q4)Write a program to print all even numbers between 1 to 100. – using while loop"
   ]
  },
  {
   "cell_type": "code",
   "execution_count": 3,
   "id": "3a2694db-64ed-40b4-811a-2f4f78ae2821",
   "metadata": {},
   "outputs": [
    {
     "name": "stdout",
     "output_type": "stream",
     "text": [
      "2\n",
      "4\n",
      "6\n",
      "8\n",
      "10\n",
      "12\n",
      "14\n",
      "16\n",
      "18\n",
      "20\n",
      "22\n",
      "24\n",
      "26\n",
      "28\n",
      "30\n",
      "32\n",
      "34\n",
      "36\n",
      "38\n",
      "40\n",
      "42\n",
      "44\n",
      "46\n",
      "48\n",
      "50\n",
      "52\n",
      "54\n",
      "56\n",
      "58\n",
      "60\n",
      "62\n",
      "64\n",
      "66\n",
      "68\n",
      "70\n",
      "72\n",
      "74\n",
      "76\n",
      "78\n",
      "80\n",
      "82\n",
      "84\n",
      "86\n",
      "88\n",
      "90\n",
      "92\n",
      "94\n",
      "96\n",
      "98\n",
      "100\n"
     ]
    }
   ],
   "source": [
    "i = 1\n",
    "while(i<=100):\n",
    "    if (i%2==0):\n",
    "        print(i)\n",
    "\n",
    "    i += 1"
   ]
  },
  {
   "cell_type": "markdown",
   "id": "07e992ec-731b-4564-9d9e-1031307eb261",
   "metadata": {},
   "source": [
    "Q5)Write a program to find the sum of all odd numbers between 1 to n."
   ]
  },
  {
   "cell_type": "code",
   "execution_count": 5,
   "id": "340ecd84-c6f8-4adb-a178-0e3fa7a7762e",
   "metadata": {},
   "outputs": [
    {
     "name": "stdout",
     "output_type": "stream",
     "text": [
      "1\n",
      "3\n",
      "5\n",
      "7\n",
      "9\n",
      "11\n",
      "13\n",
      "15\n",
      "17\n",
      "19\n",
      "21\n",
      "23\n",
      "25\n",
      "27\n",
      "29\n",
      "31\n",
      "33\n",
      "35\n",
      "37\n",
      "39\n",
      "41\n",
      "43\n",
      "45\n",
      "47\n",
      "49\n",
      "51\n",
      "53\n",
      "55\n",
      "57\n",
      "59\n",
      "61\n",
      "63\n",
      "65\n",
      "67\n",
      "69\n",
      "71\n",
      "73\n",
      "75\n",
      "77\n",
      "79\n",
      "81\n",
      "83\n",
      "85\n",
      "87\n",
      "89\n",
      "91\n",
      "93\n",
      "95\n",
      "97\n",
      "99\n"
     ]
    }
   ],
   "source": [
    "i = 1\n",
    "while(i<100):\n",
    "    if (i%2==1):\n",
    "        print(i)\n",
    "    i += 1"
   ]
  },
  {
   "cell_type": "code",
   "execution_count": null,
   "id": "39ee9892-c433-40dd-acdb-fcec9f6a7e13",
   "metadata": {},
   "outputs": [],
   "source": []
  },
  {
   "cell_type": "markdown",
   "id": "c1a13180-c91e-4bbd-b2b8-6c00428ee949",
   "metadata": {},
   "source": [
    "Q6)Write a program to count the number of digits in a number."
   ]
  },
  {
   "cell_type": "code",
   "execution_count": 2,
   "id": "dcc4748b-0bfa-4fe9-bdb0-cb3da28b50c7",
   "metadata": {},
   "outputs": [
    {
     "name": "stdin",
     "output_type": "stream",
     "text": [
      "enter the number  1234\n"
     ]
    },
    {
     "name": "stdout",
     "output_type": "stream",
     "text": [
      "3\n"
     ]
    }
   ],
   "source": [
    "n = int(input(\"enter the number \"))\n",
    "count = 0\n",
    "i = 1\n",
    "while(i<=n):\n",
    "    count+=1\n",
    "    n= n//10\n",
    "    i+=1\n",
    "print(count)    \n"
   ]
  },
  {
   "cell_type": "code",
   "execution_count": 7,
   "id": "cf254644-87b7-4509-a212-96bd60e4b166",
   "metadata": {},
   "outputs": [
    {
     "name": "stdin",
     "output_type": "stream",
     "text": [
      "enter the number : 123456789876543\n"
     ]
    },
    {
     "name": "stdout",
     "output_type": "stream",
     "text": [
      "15\n"
     ]
    }
   ],
   "source": [
    "n = int(input(\"enter the number :\"))\n",
    "i = 0\n",
    "c = 0\n",
    "while(i<n):\n",
    "    c= c+1\n",
    "    n//=10\n",
    "    \n",
    "\n",
    "print(c)"
   ]
  },
  {
   "cell_type": "code",
   "execution_count": null,
   "id": "548a5727-e583-434c-be58-8944f2749040",
   "metadata": {},
   "outputs": [],
   "source": []
  },
  {
   "cell_type": "markdown",
   "id": "31c8501e-763f-423e-82a1-0cabbeb20584",
   "metadata": {},
   "source": [
    "Q7)Write a program to calculate the sum of digits of a number."
   ]
  },
  {
   "cell_type": "code",
   "execution_count": 8,
   "id": "30ff0ba4-7908-4dd5-b1eb-a6bb5ecb036b",
   "metadata": {},
   "outputs": [
    {
     "name": "stdin",
     "output_type": "stream",
     "text": [
      "enter the number : 125\n"
     ]
    },
    {
     "name": "stdout",
     "output_type": "stream",
     "text": [
      "8\n"
     ]
    }
   ],
   "source": [
    "num = int(input(\"enter the number :\"))\n",
    "s = 0\n",
    "while(num>0):\n",
    "    s = s + num %10\n",
    "    num = num//10\n",
    "\n",
    "print(s)"
   ]
  },
  {
   "cell_type": "markdown",
   "id": "479cdbec-66aa-4e7d-b6fd-7067931d1014",
   "metadata": {},
   "source": [
    "Q8)Write a program to find the first and last digit of a number."
   ]
  },
  {
   "cell_type": "code",
   "execution_count": 10,
   "id": "a71a69a1-deee-4541-86d8-ae5a8fd6811f",
   "metadata": {},
   "outputs": [
    {
     "name": "stdin",
     "output_type": "stream",
     "text": [
      "enter the number : 124\n"
     ]
    },
    {
     "name": "stdout",
     "output_type": "stream",
     "text": [
      "14\n"
     ]
    }
   ],
   "source": [
    "n = int(input(\"enter the number :\"))\n",
    "first = 0\n",
    "rem=0\n",
    "last = n%10\n",
    "while(n>0):\n",
    "    first = n%10\n",
    "    n = n//10\n",
    "\n",
    "print(f\"{first}{last}\")\n"
   ]
  },
  {
   "cell_type": "markdown",
   "id": "ae054aff-70e9-443c-abbf-3673d9d7abe6",
   "metadata": {},
   "source": [
    "Q9) Write a program to find the sum of first and last digit of a number."
   ]
  },
  {
   "cell_type": "code",
   "execution_count": 12,
   "id": "77850888-4c73-4bd4-94a4-32d1ccd9401e",
   "metadata": {},
   "outputs": [
    {
     "name": "stdin",
     "output_type": "stream",
     "text": [
      "enter the number : 1235\n"
     ]
    },
    {
     "name": "stdout",
     "output_type": "stream",
     "text": [
      "6\n"
     ]
    }
   ],
   "source": [
    "n = int(input(\"enter the number :\"))\n",
    "rem = 0\n",
    "last = n%10\n",
    "s= 0\n",
    "while(n>0):\n",
    "    first = n%10\n",
    "    n = n//10\n",
    "    s= last+first\n",
    "\n",
    "print(s)"
   ]
  },
  {
   "cell_type": "markdown",
   "id": "afe8f69f-1733-4fd6-b35f-0787f8bccd1c",
   "metadata": {},
   "source": [
    "Q10)Write a program to enter a number and print its reverse."
   ]
  },
  {
   "cell_type": "code",
   "execution_count": 14,
   "id": "f7998a1c-d61d-46c7-bba1-800f8a9df5be",
   "metadata": {},
   "outputs": [
    {
     "name": "stdin",
     "output_type": "stream",
     "text": [
      "enter the number : 1245\n"
     ]
    },
    {
     "name": "stdout",
     "output_type": "stream",
     "text": [
      "5421\n"
     ]
    }
   ],
   "source": [
    "n = int(input(\"enter the number :\"))\n",
    "s= 0\n",
    "rem= 0\n",
    "while(n>0):\n",
    "    rem = n%10\n",
    "    n = n//10\n",
    "    s= s*10+rem\n",
    "\n",
    "print(s)"
   ]
  },
  {
   "cell_type": "code",
   "execution_count": null,
   "id": "e9a0116d-da2a-4352-b64e-7489db64ed33",
   "metadata": {},
   "outputs": [],
   "source": [
    "wh"
   ]
  }
 ],
 "metadata": {
  "kernelspec": {
   "display_name": "Python 3 (ipykernel)",
   "language": "python",
   "name": "python3"
  },
  "language_info": {
   "codemirror_mode": {
    "name": "ipython",
    "version": 3
   },
   "file_extension": ".py",
   "mimetype": "text/x-python",
   "name": "python",
   "nbconvert_exporter": "python",
   "pygments_lexer": "ipython3",
   "version": "3.12.7"
  }
 },
 "nbformat": 4,
 "nbformat_minor": 5
}
