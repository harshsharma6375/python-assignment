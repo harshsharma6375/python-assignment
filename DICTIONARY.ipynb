{
 "cells": [
  {
   "cell_type": "code",
   "execution_count": null,
   "id": "48a8be94-ea9c-4efa-841f-6a8cc7e3bdb6",
   "metadata": {},
   "outputs": [],
   "source": []
  },
  {
   "cell_type": "markdown",
   "id": "eb7fd820-9bdd-435d-ac3a-6778029cb5bd",
   "metadata": {},
   "source": [
    "###### Q1\n",
    "###### l2=[40,50,60]\n",
    "###### {10:40,  20:50,  300:60}\n",
    "###### note using zip and without zip\n"
   ]
  },
  {
   "cell_type": "code",
   "execution_count": 4,
   "id": "3802e58b-08ba-41bb-a6cd-6771bbcb21e4",
   "metadata": {},
   "outputs": [
    {
     "name": "stdout",
     "output_type": "stream",
     "text": [
      "{10: 40, 20: 50, 30: 60}\n"
     ]
    }
   ],
   "source": [
    "l1 = [10,20,30]\n",
    "l2 = [40,50,60]\n",
    "dic = {}\n",
    "for i in range (0,len(l1)):\n",
    "    dic[l1[i]] = l2[i]\n",
    "\n",
    "print(dic)"
   ]
  },
  {
   "cell_type": "markdown",
   "id": "6cdb3699-6609-4470-ad93-7aa2491bd0c3",
   "metadata": {},
   "source": [
    "###### Q2 {name: marks .. . . . .  ======>} multiple elements\n",
    "###### now take a input from the user for score variable\n",
    "###### - print the key who have more value then the score variable\n"
   ]
  },
  {
   "cell_type": "code",
   "execution_count": 31,
   "id": "d18f9f31-0be0-4221-9203-293b4d0bd1cf",
   "metadata": {},
   "outputs": [
    {
     "name": "stdin",
     "output_type": "stream",
     "text": [
      "enter the number 58\n"
     ]
    },
    {
     "name": "stdout",
     "output_type": "stream",
     "text": [
      "student1 70\n",
      "student2 80\n",
      "student3 65\n"
     ]
    }
   ],
   "source": [
    "d = {\"student1\" : 70 ,\"student2\" : 80 , \"student3\" : 65}\n",
    "score = int(input(\"enter the number\"))\n",
    "for name,marks in d.items():\n",
    "    if marks > score :\n",
    "        print(name,marks)\n",
    "        pass\n",
    "    else :\n",
    "        (\"invalid marks \")"
   ]
  },
  {
   "cell_type": "code",
   "execution_count": 21,
   "id": "a245c87d-bc72-4514-b97d-edbbfbfb1dbb",
   "metadata": {
    "scrolled": true
   },
   "outputs": [
    {
     "name": "stdin",
     "output_type": "stream",
     "text": [
      "enter the number 75\n"
     ]
    },
    {
     "name": "stdout",
     "output_type": "stream",
     "text": [
      "student2 80\n"
     ]
    }
   ],
   "source": [
    "d  = {\"student1\" : 70 ,\"student2\" : 80 , \"student3\" : 65}\n",
    "score = int(input(\"enter the number\"))\n",
    "for i in d.items ():\n",
    "    key = i[0]\n",
    "    values = i[1]\n",
    "    if score < values:\n",
    "        print(key,values)\n",
    "    \n"
   ]
  },
  {
   "cell_type": "markdown",
   "id": "643c7f7f-d466-4630-a273-51307d566d56",
   "metadata": {},
   "source": [
    "###### Q3 {10:19,  11:20,  13:NONE}\n",
    "###### delete the key-value pair where the value is none\n"
   ]
  },
  {
   "cell_type": "code",
   "execution_count": 25,
   "id": "2f4c99e0-affd-4b76-819a-30620d0bffab",
   "metadata": {},
   "outputs": [
    {
     "name": "stdout",
     "output_type": "stream",
     "text": [
      "{10: 19, 11: 20}\n"
     ]
    }
   ],
   "source": [
    "dic =  {10:19,  11:20,  13:None}\n",
    "dt = {}\n",
    "for i in dic :\n",
    "    if dic[i] is not None :\n",
    "        dt[i] = dic[i]\n",
    "\n",
    "print(dt)"
   ]
  },
  {
   "cell_type": "code",
   "execution_count": null,
   "id": "4bc9373b-b1b4-458c-972a-aefaae52415b",
   "metadata": {},
   "outputs": [],
   "source": []
  },
  {
   "cell_type": "markdown",
   "id": "8070821b-c117-4e85-a41f-821805e0e70e",
   "metadata": {},
   "source": [
    "###### Q4:   {\"x\":5, \"y\":7, \"z\":10}\n",
    "###### print new dictionary as square of each key {x:25, y:49,  z:100}\n"
   ]
  },
  {
   "cell_type": "code",
   "execution_count": 28,
   "id": "fee68ed4-45de-4901-813c-76a53d4d46e2",
   "metadata": {},
   "outputs": [
    {
     "name": "stdout",
     "output_type": "stream",
     "text": [
      "{'x': 25, 'y': 49, 'z': 100}\n"
     ]
    }
   ],
   "source": [
    "d = {\"x\":5,\"y\" : 7,\"z\":10}\n",
    "dt = {}\n",
    "for i in d:\n",
    "    dt[i] = d[i]**2\n",
    "\n",
    "print(dt)"
   ]
  },
  {
   "cell_type": "markdown",
   "id": "a55938a7-53d4-404f-9a32-60c9a36b2249",
   "metadata": {},
   "source": [
    "###### Q5\n",
    "###### create a dictionary as cube of number from 1 to 5\n",
    "######  {1:1, 2:8, 3:27, 4:64, 5:125}\n",
    "###### Note use only thing we have learnt\n"
   ]
  },
  {
   "cell_type": "code",
   "execution_count": 30,
   "id": "09250ee5-95ec-4dd8-94f8-d6a192636864",
   "metadata": {},
   "outputs": [
    {
     "name": "stdout",
     "output_type": "stream",
     "text": [
      "{1: 1, 2: 8, 3: 27, 4: 64, 5: 125}\n"
     ]
    }
   ],
   "source": [
    "dt = {}\n",
    "for i in range(1,6):\n",
    "    dt[i] = i**3\n",
    "print(dt)"
   ]
  },
  {
   "cell_type": "markdown",
   "id": "b18e0f6b-e9d9-4f9c-9b0f-96018d7fc6b1",
   "metadata": {},
   "source": [
    "###### Q6 {\"x\":5, \"y\":7, \"z\":10}\n",
    "###### get the ans in new dictionary {\"average\":7.3 ,   \"max\":10}\n"
   ]
  },
  {
   "cell_type": "code",
   "execution_count": 47,
   "id": "b221e6db-b1ec-4d47-abf4-4a8a2d031dd3",
   "metadata": {},
   "outputs": [
    {
     "name": "stdout",
     "output_type": "stream",
     "text": [
      "{'max': 10}\n",
      "7.333333333333333\n"
     ]
    }
   ],
   "source": [
    "d = {\"x\":5,\"y\":7,\"z\":10}\n",
    "dt = {}\n",
    "d=d.values()\n",
    "d=list(d)\n",
    "s = 0\n",
    "c = 0\n",
    "max_values = d[0]\n",
    "t = 0\n",
    "for i in range (0,len(d)):\n",
    "    if (d[i] > max_values):\n",
    "        max_values = d[i]\n",
    "        dt.update({\"max\":max_values})\n",
    "print(dt)\n",
    "for i in range (len(d)):\n",
    "    s+=d[i]\n",
    "    c+=1\n",
    "    avg=s/c\n",
    "print(avg)"
   ]
  },
  {
   "cell_type": "code",
   "execution_count": null,
   "id": "2038211a-6419-4424-9c77-83b209469b20",
   "metadata": {},
   "outputs": [],
   "source": []
  }
 ],
 "metadata": {
  "kernelspec": {
   "display_name": "Python 3 (ipykernel)",
   "language": "python",
   "name": "python3"
  },
  "language_info": {
   "codemirror_mode": {
    "name": "ipython",
    "version": 3
   },
   "file_extension": ".py",
   "mimetype": "text/x-python",
   "name": "python",
   "nbconvert_exporter": "python",
   "pygments_lexer": "ipython3",
   "version": "3.12.7"
  }
 },
 "nbformat": 4,
 "nbformat_minor": 5
}
