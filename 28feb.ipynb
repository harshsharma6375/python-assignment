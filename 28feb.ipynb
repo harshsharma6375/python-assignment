{
 "cells": [
  {
   "cell_type": "markdown",
   "id": "a2fc6ca5-7113-4329-875a-a4c5771c46c7",
   "metadata": {},
   "source": []
  },
  {
   "cell_type": "markdown",
   "id": "d0bd436c-143d-46c8-a4d2-f8810ec91f92",
   "metadata": {},
   "source": [
    "Q11 Write a program that calculates the discount for a product based on its price:\n",
    "If price is greater than 1000, discount is 10%\n",
    "If price is between 500 and 1000, discount is 5%\n",
    "Otherwise, no discount\n",
    "Print the final price after applying the discount."
   ]
  },
  {
   "cell_type": "code",
   "execution_count": 5,
   "id": "ef2b189b-2220-4b07-b0d0-6b79d65f55dd",
   "metadata": {},
   "outputs": [
    {
     "name": "stdin",
     "output_type": "stream",
     "text": [
      "enter the price  10000\n"
     ]
    },
    {
     "name": "stdout",
     "output_type": "stream",
     "text": [
      "enter the final_price -9000.0\n"
     ]
    }
   ],
   "source": [
    "price = float(input(\"enter the price \"))\n",
    "if (price  > 1000):\n",
    "    discount = price*0.10\n",
    "elif (price<=1000 and price>=500):\n",
    "    discount = price*0.05\n",
    "else :\n",
    "    print(\"\")\n",
    "final_price =  price - discount  \n",
    "print (\"enter the final_price\",final_price)"
   ]
  },
  {
   "cell_type": "markdown",
   "id": "85ad15b7-2a7a-44c7-b6a4-c4d8518d0df8",
   "metadata": {},
   "source": [
    "Q12 Write a program that takes the name of a month as input and prints the number of days in that\n",
    "month. Consider leap years for February."
   ]
  },
  {
   "cell_type": "code",
   "execution_count": 28,
   "id": "28415999-d86c-406c-ad13-235d41a5fca8",
   "metadata": {},
   "outputs": [
    {
     "name": "stdin",
     "output_type": "stream",
     "text": [
      "enter the month feb\n",
      "enter the year 2024\n"
     ]
    },
    {
     "name": "stdout",
     "output_type": "stream",
     "text": [
      "29 days\n"
     ]
    }
   ],
   "source": [
    "a = input(\"enter the month\")\n",
    "year = int (input(\"enter the year\"))\n",
    "if (a == \"jan\" or a == \"mar\" or a == \"may\" or a == \"july\" or a == \"aug\" or  a == \"oct\" or a == \"dec\"):\n",
    "    print(\"31days\")    \n",
    "elif (a == 'april' and a =='june' and a == 'sept' and a== 'nov'):\n",
    "    print(\"30days\")\n",
    "elif (a == 'feb'):\n",
    "    if (year % 4 == 0 and year %100 != 0) or (year % 400 == 0):\n",
    "        print (\"29 days\")\n",
    "    else :\n",
    "        print(\"28days\")\n",
    "else :\n",
    "    (\"invalid\")\n",
    "\n",
    "\n",
    "\n",
    "\n",
    "\n"
   ]
  },
  {
   "cell_type": "code",
   "execution_count": null,
   "id": "2b203db4-d116-4b2f-9bd2-47c99dd29c46",
   "metadata": {},
   "outputs": [],
   "source": []
  },
  {
   "cell_type": "markdown",
   "id": "1325c375-896d-4539-8a3a-fa7572d04af6",
   "metadata": {},
   "source": [
    "Q13 Write a program that simulates a simple ATM. The user should be able to:\n",
    "Check balance\n",
    "Deposit money\n",
    "Withdraw money (ensure the balance doesn't go negative) Use an if-else structure to handle the user's\n",
    "\n",
    "\n"
   ]
  },
  {
   "cell_type": "code",
   "execution_count": 29,
   "id": "c8d00be2-e933-4315-ade2-84b3087ddcef",
   "metadata": {},
   "outputs": [
    {
     "name": "stdout",
     "output_type": "stream",
     "text": [
      "1,check balance \n",
      "2,deposit\n",
      "3,withdraw \n"
     ]
    },
    {
     "name": "stdin",
     "output_type": "stream",
     "text": [
      "choose an option (1-3) 2\n",
      "enter your deposit 5000\n"
     ]
    },
    {
     "name": "stdout",
     "output_type": "stream",
     "text": [
      "new balance  105000\n"
     ]
    }
   ],
   "source": [
    "balance = 100000\n",
    "print(\"1,check balance \")\n",
    "print (\"2,deposit\")\n",
    "print(\"3,withdraw \")\n",
    "\n",
    "choice = input (\"choose an option (1-3)\")\n",
    "if choice == \"1\":\n",
    "    print (\"balance \")\n",
    "elif choice == \"2\":\n",
    "    deposit = int(input(\"enter your deposit\"))\n",
    "    balance = deposit +balance\n",
    "    print(\"new balance \",balance )\n",
    "elif choice == \"3\":\n",
    "    withdraw = int (input(\"enter your withdraw \"))\n",
    "    balance = balance - withdraw \n",
    "    print(\"new balance \", balance )\n",
    "else :\n",
    "    print(\"invalid choice \")\n"
   ]
  },
  {
   "cell_type": "code",
   "execution_count": null,
   "id": "f62e0f1a-489f-499e-bda7-d01c431750c2",
   "metadata": {},
   "outputs": [],
   "source": []
  },
  {
   "cell_type": "markdown",
   "id": "64928f21-b68b-447a-aec0-07c9b72782c9",
   "metadata": {},
   "source": [
    "Q14 Write a program that categorizes a given age into different groups:\n",
    "Infant (0-1 year)\n",
    "Toddler (2-4 years)\n",
    "Child (5-12 years)\n",
    "Teenager (13-19 years)\n",
    "Adult (20-59 years)\n",
    "Senior (60 years and above)"
   ]
  },
  {
   "cell_type": "code",
   "execution_count": null,
   "id": "80a4356e-c3a1-4b4e-a094-28b5b8cf0fc7",
   "metadata": {},
   "outputs": [],
   "source": []
  },
  {
   "cell_type": "code",
   "execution_count": 43,
   "id": "67ada7b1-bae0-4641-b498-18cfcabdb592",
   "metadata": {},
   "outputs": [
    {
     "name": "stdin",
     "output_type": "stream",
     "text": [
      "enter age  45\n"
     ]
    },
    {
     "name": "stdout",
     "output_type": "stream",
     "text": [
      "adult\n"
     ]
    }
   ],
   "source": [
    "age = int(input(\"enter age \"))\n",
    "if   (age <= 1):\n",
    "    print(\"infant\")\n",
    "elif (age >= 2 and age <=4):\n",
    "    print(\"toodler\")\n",
    "elif (age >= 5 and age <= 12):\n",
    "    print(\"child\")\n",
    "elif (age >= 13 and age <= 19):\n",
    "    print(\"teenager\")\n",
    "elif (age >= 20 and age <= 59):\n",
    "    print(\"adult\")\n",
    "elif (age <= 60):\n",
    "    print(\"senior\")\n",
    "else :\n",
    "    print(\"RIP\")\n",
    "    "
   ]
  },
  {
   "cell_type": "markdown",
   "id": "38573e7e-d8e2-48fb-8a1d-67db571839e6",
   "metadata": {},
   "source": [
    "Q15 Write a program that takes an integer (1-7) as input and prints the corresponding day of the week (1\n",
    "for Monday, 2 for Tuesday, etc.)."
   ]
  },
  {
   "cell_type": "code",
   "execution_count": 46,
   "id": "13e9204e-cae1-4771-856a-043fe893a227",
   "metadata": {},
   "outputs": [
    {
     "name": "stdin",
     "output_type": "stream",
     "text": [
      "enter the num 1\n"
     ]
    },
    {
     "name": "stdout",
     "output_type": "stream",
     "text": [
      "monday\n"
     ]
    }
   ],
   "source": [
    "a = int(input(\"enter the num\"))\n",
    "if (a == 1):\n",
    "    print(\"monday\")\n",
    "elif (a == 2):\n",
    "    print(\"tuesday\")\n",
    "elif (a == 3):\n",
    "    print(\"wednesday\")\n",
    "elif (a == 4):\n",
    "    print(\"thrusday\")    \n",
    "elif (a == 5):\n",
    "    print(\"friday\")\n",
    "elif (a == 6):\n",
    "    print(\"saturday\")    \n",
    "elif (a == 7):\n",
    "    print(\"sunday\")\n",
    "else :\n",
    "    print(\"not valid\")\n",
    "    \n",
    "    "
   ]
  },
  {
   "cell_type": "code",
   "execution_count": null,
   "id": "b6d5c6ed-f218-4a8b-aa3c-8c0a8e4d66e9",
   "metadata": {},
   "outputs": [],
   "source": []
  },
  {
   "cell_type": "code",
   "execution_count": null,
   "id": "bd4c350d-0997-4f35-8534-951b4437d476",
   "metadata": {},
   "outputs": [],
   "source": []
  }
 ],
 "metadata": {
  "kernelspec": {
   "display_name": "Python 3 (ipykernel)",
   "language": "python",
   "name": "python3"
  },
  "language_info": {
   "codemirror_mode": {
    "name": "ipython",
    "version": 3
   },
   "file_extension": ".py",
   "mimetype": "text/x-python",
   "name": "python",
   "nbconvert_exporter": "python",
   "pygments_lexer": "ipython3",
   "version": "3.12.7"
  }
 },
 "nbformat": 4,
 "nbformat_minor": 5
}
