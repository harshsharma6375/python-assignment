{
 "cells": [
  {
   "cell_type": "markdown",
   "id": "1b1b20ec-a5fe-42ae-bb11-e96c7391dcc9",
   "metadata": {},
   "source": [
    "### Question of for loop"
   ]
  },
  {
   "cell_type": "markdown",
   "id": "efe64460-c944-409e-a630-767ed9c26370",
   "metadata": {},
   "source": [
    "1. Write a program to print all natural numbers from 1 to n. – using while\n",
    "loop\n",
    "2. Write a program to print all natural numbers in reverse (from n to 1). –\n",
    "using while loop\n",
    "3. Write a program to print all alphabets from a to z. – using while loop\n",
    "4. Write a program to print all even numbers between 1 to 100. – using\n",
    "while loop\n",
    "5. Write a program to find the sum of all odd numbers between 1 to n.\n",
    "6. Write a program to count the number of digits in a number.\n",
    "7. Write a program to calculate the sum of digits of a number.\n",
    "8. Write a program to find the first and last digit of a number.\n",
    "9. Write a program to find the sum of first and last digit of a number.\n",
    "10.Write a program to enter a number and print its reverse."
   ]
  },
  {
   "cell_type": "markdown",
   "id": "41ba75fc-8d2b-4ec8-97c2-9ab2176e3e78",
   "metadata": {},
   "source": [
    "Q1)Write a program to print all natural numbers from 1 to n. – using while loop"
   ]
  },
  {
   "cell_type": "code",
   "execution_count": 2,
   "id": "f216c6ad-3e7d-47f4-9538-d4a9379bcdbe",
   "metadata": {},
   "outputs": [
    {
     "name": "stdout",
     "output_type": "stream",
     "text": [
      "1\n",
      "2\n",
      "3\n",
      "4\n",
      "5\n",
      "6\n",
      "7\n",
      "8\n",
      "9\n"
     ]
    }
   ],
   "source": [
    "n=10\n",
    "for n in range (1,n):\n",
    "    print(n)"
   ]
  },
  {
   "cell_type": "code",
   "execution_count": null,
   "id": "7594f47d-b72b-484f-bfc5-df7612c7f760",
   "metadata": {},
   "outputs": [],
   "source": [
    "Q2) Write a program to print all natural numbers in reverse (from n to 1). – using while loop"
   ]
  },
  {
   "cell_type": "code",
   "execution_count": 3,
   "id": "b605c1d1-2b96-415a-bbc0-04b1cac3a911",
   "metadata": {},
   "outputs": [
    {
     "name": "stdout",
     "output_type": "stream",
     "text": [
      "10\n",
      "9\n",
      "8\n",
      "7\n",
      "6\n",
      "5\n",
      "4\n",
      "3\n",
      "2\n"
     ]
    }
   ],
   "source": [
    "n=1\n",
    "for n in range (10,n,-1):\n",
    "    print(n)"
   ]
  },
  {
   "cell_type": "code",
   "execution_count": null,
   "id": "0a805a2f-43a8-40a3-b202-c1af97fffe53",
   "metadata": {},
   "outputs": [],
   "source": []
  },
  {
   "cell_type": "code",
   "execution_count": null,
   "id": "3cddbc86-0373-4a0a-978d-3aca306f1870",
   "metadata": {},
   "outputs": [],
   "source": []
  },
  {
   "cell_type": "code",
   "execution_count": null,
   "id": "244de1c1-4568-42fa-a4d1-ae8144a9953f",
   "metadata": {},
   "outputs": [],
   "source": []
  },
  {
   "cell_type": "code",
   "execution_count": null,
   "id": "b9bb63c6-9d9a-4a1d-ad0b-dde3f5114569",
   "metadata": {},
   "outputs": [],
   "source": [
    "Q4)Write a program to print all even numbers between 1 to 100. – using while loop"
   ]
  },
  {
   "cell_type": "code",
   "execution_count": 19,
   "id": "64a7e2e5-b0ac-4b24-b1a2-858cdd8228de",
   "metadata": {},
   "outputs": [
    {
     "name": "stdout",
     "output_type": "stream",
     "text": [
      "2\n",
      "4\n",
      "6\n",
      "8\n",
      "10\n",
      "12\n",
      "14\n",
      "16\n",
      "18\n",
      "20\n",
      "22\n",
      "24\n",
      "26\n",
      "28\n",
      "30\n",
      "32\n",
      "34\n",
      "36\n",
      "38\n",
      "40\n",
      "42\n",
      "44\n",
      "46\n",
      "48\n",
      "50\n",
      "52\n",
      "54\n",
      "56\n",
      "58\n",
      "60\n",
      "62\n",
      "64\n",
      "66\n",
      "68\n",
      "70\n",
      "72\n",
      "74\n",
      "76\n",
      "78\n",
      "80\n",
      "82\n",
      "84\n",
      "86\n",
      "88\n",
      "90\n",
      "92\n",
      "94\n",
      "96\n",
      "98\n"
     ]
    }
   ],
   "source": [
    "n=100\n",
    "for n in range (1,100):\n",
    "    if n%2==0:\n",
    "        print(n)"
   ]
  },
  {
   "cell_type": "code",
   "execution_count": null,
   "id": "542f1a67-3e25-403b-b2a0-df285f5c79be",
   "metadata": {},
   "outputs": [],
   "source": []
  },
  {
   "cell_type": "markdown",
   "id": "de688c0c-31a6-4878-a0ab-672ce708b1a9",
   "metadata": {},
   "source": [
    "Q5)Write a program to find the sum of all odd numbers between 1 to n."
   ]
  },
  {
   "cell_type": "code",
   "execution_count": 41,
   "id": "4d1bb28c-599e-4f5c-8ed3-7797496c22c0",
   "metadata": {},
   "outputs": [
    {
     "name": "stdin",
     "output_type": "stream",
     "text": [
      "enter value of n 5\n"
     ]
    },
    {
     "name": "stdout",
     "output_type": "stream",
     "text": [
      "15\n"
     ]
    }
   ],
   "source": [
    "n=int(input(\"enter value of n\"))\n",
    "s = 0\n",
    "for i in range(1,n+1):\n",
    "    if n%2 == 1:\n",
    "        s =i+s\n",
    "print(s)"
   ]
  },
  {
   "cell_type": "markdown",
   "id": "44b42241-b791-475c-a9e6-8690d6421288",
   "metadata": {},
   "source": [
    "Q6) Write a program to count the number of digits in a number."
   ]
  },
  {
   "cell_type": "code",
   "execution_count": 43,
   "id": "0074ce63-4cb4-455a-aaf7-5843628c7388",
   "metadata": {},
   "outputs": [
    {
     "name": "stdout",
     "output_type": "stream",
     "text": [
      "total 1\n",
      "total 2\n",
      "total 3\n",
      "total 4\n",
      "total 5\n",
      "total 6\n",
      "total 7\n",
      "total 8\n",
      "total 9\n"
     ]
    }
   ],
   "source": [
    "count = 0\n",
    "for num in range(1,10):\n",
    "    count+=1\n",
    "    print(\"total\",count)"
   ]
  },
  {
   "cell_type": "markdown",
   "id": "5bf426b6-7fb9-45fa-acfe-9a5e113f28c1",
   "metadata": {},
   "source": [
    "Q7)Write a program to calculate the sum of digits of a number."
   ]
  },
  {
   "cell_type": "code",
   "execution_count": 49,
   "id": "74ed2334-0a38-40da-8c09-35ea667076ab",
   "metadata": {},
   "outputs": [
    {
     "name": "stdin",
     "output_type": "stream",
     "text": [
      "enter the number  45\n"
     ]
    },
    {
     "name": "stdout",
     "output_type": "stream",
     "text": [
      "sum 9\n"
     ]
    }
   ],
   "source": [
    "num = input(\"enter the number \")\n",
    "sum = 0\n",
    "for i in num:\n",
    "    sum = sum+ int(i)\n",
    "print (\"sum\",sum)     "
   ]
  },
  {
   "cell_type": "markdown",
   "id": "970a0d87-aa9f-40cf-91e7-341817613b1f",
   "metadata": {},
   "source": [
    "Q8)Write a program to find the first and last digit of a number.\n"
   ]
  },
  {
   "cell_type": "code",
   "execution_count": 1,
   "id": "3423d702-13e5-4dde-beeb-b1fdcdd2e563",
   "metadata": {},
   "outputs": [
    {
     "name": "stdin",
     "output_type": "stream",
     "text": [
      "enter your number : 12345\n"
     ]
    },
    {
     "name": "stdout",
     "output_type": "stream",
     "text": [
      "first value :1 and last value5\n"
     ]
    }
   ],
   "source": [
    "n=int(input(\"enter your number :\"))\n",
    "rem=0\n",
    "last=n%10\n",
    "for i in range(n,0,-1):\n",
    "    if(i==n):\n",
    "        rem=n%10\n",
    "        n=n//10\n",
    "print(f\"first value :{rem} and last value{last}\")"
   ]
  },
  {
   "cell_type": "code",
   "execution_count": null,
   "id": "a16316c9-93ac-4a1f-964a-96a53f594d53",
   "metadata": {},
   "outputs": [],
   "source": []
  },
  {
   "cell_type": "markdown",
   "id": "3b7adbc7-c4f3-4448-864f-2bcf7f342582",
   "metadata": {},
   "source": [
    "Q9)Write a program to find the sum of first and last digit of a number.\n",
    "\n"
   ]
  },
  {
   "cell_type": "code",
   "execution_count": 4,
   "id": "921e7727-473d-4326-9128-72afcb69a861",
   "metadata": {},
   "outputs": [
    {
     "name": "stdin",
     "output_type": "stream",
     "text": [
      "enter your number : 123\n"
     ]
    },
    {
     "name": "stdout",
     "output_type": "stream",
     "text": [
      "sum : 4\n"
     ]
    }
   ],
   "source": [
    "n = int(input(\"enter your number :\"))\n",
    "rem = 0\n",
    "last = n%10\n",
    "s= 0\n",
    "for i in range(n,0,-1):\n",
    "    if(i==n):\n",
    "        rem = n%10\n",
    "        n = n//10\n",
    "        s = last + rem\n",
    "        \n",
    "\n",
    "print(\"sum :\",s)"
   ]
  },
  {
   "cell_type": "code",
   "execution_count": null,
   "id": "e696edd1-bae3-4af4-a4c7-4a584d3534f5",
   "metadata": {},
   "outputs": [],
   "source": []
  },
  {
   "cell_type": "code",
   "execution_count": null,
   "id": "a0b5332d-be98-411f-afc4-3fa74d5694ae",
   "metadata": {},
   "outputs": [],
   "source": [
    "Q10)Write a program to enter a number and print its reverse."
   ]
  },
  {
   "cell_type": "code",
   "execution_count": 13,
   "id": "f6a977b9-74f6-4aa5-9876-2d777fd4c37b",
   "metadata": {},
   "outputs": [
    {
     "name": "stdin",
     "output_type": "stream",
     "text": [
      "enter your number : 456\n"
     ]
    },
    {
     "name": "stdout",
     "output_type": "stream",
     "text": [
      "sum 654\n"
     ]
    }
   ],
   "source": [
    "n = int (input (\"enter your number :\"))\n",
    "s = 0\n",
    "rem = 0\n",
    "for i in range (n,0,-1):\n",
    "    if (i == n):\n",
    "        rem = n%10\n",
    "        n = n//10\n",
    "        s = s*10+rem\n",
    "\n",
    "print(\"sum\",s)"
   ]
  },
  {
   "cell_type": "code",
   "execution_count": null,
   "id": "101a801f-9ed4-4e28-a0cc-30521aaf5d6b",
   "metadata": {},
   "outputs": [],
   "source": []
  }
 ],
 "metadata": {
  "kernelspec": {
   "display_name": "Python 3 (ipykernel)",
   "language": "python",
   "name": "python3"
  },
  "language_info": {
   "codemirror_mode": {
    "name": "ipython",
    "version": 3
   },
   "file_extension": ".py",
   "mimetype": "text/x-python",
   "name": "python",
   "nbconvert_exporter": "python",
   "pygments_lexer": "ipython3",
   "version": "3.12.7"
  }
 },
 "nbformat": 4,
 "nbformat_minor": 5
}
