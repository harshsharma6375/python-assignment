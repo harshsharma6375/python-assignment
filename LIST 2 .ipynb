{
 "cells": [
  {
   "cell_type": "markdown",
   "id": "71312559-e0c8-4234-8d52-d895aed68962",
   "metadata": {},
   "source": [
    "# Beginner "
   ]
  },
  {
   "cell_type": "markdown",
   "id": "23e409d5-765c-41e6-9fa5-299ba63bcba1",
   "metadata": {},
   "source": [
    "1) Write a Python program to find the maximum element in a list of numbers without\n",
    "max functions\n",
    "numbers = [10, 20, 4, 45, 99]\n",
    "The maximum element is: 99"
   ]
  },
  {
   "cell_type": "code",
   "execution_count": 3,
   "id": "09b715c2-8ff8-41dc-af6c-5796a9834b6e",
   "metadata": {},
   "outputs": [
    {
     "name": "stdout",
     "output_type": "stream",
     "text": [
      "99\n"
     ]
    }
   ],
   "source": [
    "\n",
    "ls = [10,20,4,45,99]\n",
    "max = ls[0]\n",
    "for i in range (0,len(ls)):\n",
    "    if (ls[i] > max):\n",
    "        max = ls[i]\n",
    "\n",
    "print(max)"
   ]
  },
  {
   "cell_type": "markdown",
   "id": "6a023384-8394-4738-a15c-cbb7fcb1caf6",
   "metadata": {},
   "source": [
    "2) Write a Python program to sum all the elements in a list of numbers.\n",
    "a. numbers = [10, 20, 30, 40]\n",
    "b. The sum of all elements is: 100"
   ]
  },
  {
   "cell_type": "code",
   "execution_count": 20,
   "id": "5ec7524a-3d2c-474b-a07e-09262bb65cef",
   "metadata": {},
   "outputs": [
    {
     "name": "stdout",
     "output_type": "stream",
     "text": [
      "100\n"
     ]
    }
   ],
   "source": [
    "\n",
    "ls = [10,20,30,40]\n",
    "sum = 0\n",
    "for i in  ls:\n",
    "    sum +=i    \n",
    "print(s)"
   ]
  },
  {
   "cell_type": "markdown",
   "id": "78d40f63-73aa-4130-9f29-fc963afb096d",
   "metadata": {},
   "source": [
    "3) Write a Python program to reverse a list without reverse or slicing operator\n",
    "a. numbers = [1, 2, 3, 4, 5]\n",
    "b. Reversed list: [5, 4, 3, 2, 1]"
   ]
  },
  {
   "cell_type": "code",
   "execution_count": 28,
   "id": "713d4a4b-2587-4f3f-8531-faa4e333f2f2",
   "metadata": {},
   "outputs": [
    {
     "data": {
      "text/plain": [
       "[5, 4, 3, 2, 1]"
      ]
     },
     "execution_count": 28,
     "metadata": {},
     "output_type": "execute_result"
    }
   ],
   "source": [
    "ls = [1, 2, 3, 4, 5]\n",
    "temp = 0\n",
    "for i in range (0,len(ls)):\n",
    "    for j in range (i+1,len(ls)):\n",
    "        if ls[i]<ls[j]:\n",
    "            temp =ls[i]\n",
    "            ls[i] = ls[j]\n",
    "            ls[j] = temp\n",
    "\n",
    "ls\n",
    "    "
   ]
  },
  {
   "cell_type": "markdown",
   "id": "32c00a56-0e95-4efe-aaee-e7173aefec91",
   "metadata": {},
   "source": [
    "4) Write a Python program to sort a list in ascending order without sort functions"
   ]
  },
  {
   "cell_type": "code",
   "execution_count": 29,
   "id": "58deec2c-2d52-4db0-a295-3be9cc22c1d5",
   "metadata": {},
   "outputs": [
    {
     "data": {
      "text/plain": [
       "[1, 2, 3, 4, 5, 5, 8, 10]"
      ]
     },
     "execution_count": 29,
     "metadata": {},
     "output_type": "execute_result"
    }
   ],
   "source": [
    "ls = [5,1,8,3,5,4,2,10]\n",
    "temp = 0\n",
    "for i in range (0,len(ls)):\n",
    "    for j in range (i+1,len(ls)):\n",
    "        if ls[i] > ls [j]:\n",
    "            temp = ls[i]\n",
    "            ls[i] = ls[j]\n",
    "            ls[j] = temp \n",
    "ls"
   ]
  },
  {
   "cell_type": "markdown",
   "id": "152777a8-0895-4e80-88d0-ef02d914a9a0",
   "metadata": {},
   "source": [
    "5. Write a Python program to remove duplicates from a list while maintaining the order\n",
    "of elements.\n",
    "a. numbers = [1, 2, 2, 3, 4, 4, 5]\n",
    "b. List after removing duplicates: [1, 2, 3, 4, 5]"
   ]
  },
  {
   "cell_type": "code",
   "execution_count": 54,
   "id": "bd5ae1bd-16f8-48af-b627-81565dd64d26",
   "metadata": {},
   "outputs": [
    {
     "name": "stdout",
     "output_type": "stream",
     "text": [
      "[1, 2, 3, 4]\n"
     ]
    }
   ],
   "source": [
    "ls = [1,2,3,3,4,2]\n",
    "ls1= [] \n",
    "\n",
    "for i in range (len(ls)):\n",
    "    if ls[i] not in ls1:\n",
    "        ls1.append(ls[i])\n",
    "        \n",
    "        \n",
    "print(d)\n",
    "\n"
   ]
  },
  {
   "cell_type": "markdown",
   "id": "dcb56abc-3667-491a-989f-3f34a4e40313",
   "metadata": {},
   "source": [
    "6) Write a Python program to find all pairs of numbers in a list that add up to a specific\n",
    "target sum.\n",
    "a. numbers = [1, 2, 3, 4, 3, 5, 6] target_sum = 6\n",
    "b. Pairs that add up to 6: [(3, 3), (2, 4), (1, 5)]"
   ]
  },
  {
   "cell_type": "code",
   "execution_count": 68,
   "id": "d4d835be-3cdc-43a1-bd46-5d60f5cc5dda",
   "metadata": {},
   "outputs": [
    {
     "name": "stdout",
     "output_type": "stream",
     "text": [
      "6 : [(1, 5), (2, 4), (3, 3)]\n"
     ]
    }
   ],
   "source": [
    "ls = [1, 2, 3, 4, 3, 5, 6]\n",
    "target = 6\n",
    "pairs= []\n",
    "for i in range (len(ls)):\n",
    "    for j in range (i+1,len(ls)):\n",
    "        if (ls[i] +ls[j] == target):\n",
    "            pairs.append((ls[i],ls[j]))\n",
    "print(target ,\":\", pairs)"
   ]
  },
  {
   "cell_type": "markdown",
   "id": "f1d90b41-69b0-4855-92e3-3a32ef7b0fec",
   "metadata": {},
   "source": [
    "7) Write a Python program to flatten a nested list (list within lists) into a single list.\n",
    "a. nested_list = [1, [2, 3], [4, [5, 6], 7], 8]\n",
    "b. Flattened list: [1, 2, 3, 4, 5, 6, 7, 8]"
   ]
  },
  {
   "cell_type": "code",
   "execution_count": 49,
   "id": "7e72bec3-44ce-44b7-9ac0-5b0dd2f68878",
   "metadata": {},
   "outputs": [
    {
     "name": "stdout",
     "output_type": "stream",
     "text": [
      "Flattened list: [1, 2, 3, 4, 5, 6, 7, 8]\n"
     ]
    }
   ],
   "source": [
    "nested_list = [1, [2, 3], [4, [5, 6], 7], 8]\n",
    "\n",
    "flattened = []\n",
    "\n",
    "for i in nested_list:\n",
    "    if type(i) == list:\n",
    "        for j in i:\n",
    "            if type(j) == list:\n",
    "                for k in j:\n",
    "                    flattened.append(k)\n",
    "            else:\n",
    "                flattened.append(j)\n",
    "    else:\n",
    "        flattened.append(i)\n",
    "\n",
    "print(\"Flattened list:\", flattened)\n",
    "\n"
   ]
  },
  {
   "cell_type": "code",
   "execution_count": null,
   "id": "8aba4994-03ff-4c43-9a58-36dfb7b8df75",
   "metadata": {},
   "outputs": [],
   "source": []
  },
  {
   "cell_type": "markdown",
   "id": "6a58e252-d848-4362-9c26-fbfd96930d57",
   "metadata": {},
   "source": [
    "8) Write a Python program to find the sum of the elements in a list, excluding the largest\n",
    "and smallest element. Don’t use max or min functions\n",
    "a. numbers = [1, 2, 3, 4, 5]\n",
    "b. Sum excluding the largest and smallest element: 9"
   ]
  },
  {
   "cell_type": "code",
   "execution_count": 106,
   "id": "c77e5b02-2505-47f1-ab29-9d5c97425734",
   "metadata": {},
   "outputs": [
    {
     "name": "stdout",
     "output_type": "stream",
     "text": [
      "1\n",
      "5\n",
      "9\n"
     ]
    }
   ],
   "source": [
    "num = [1, 2, 3, 4, 5]\n",
    "small = num [0]\n",
    "large = num[0]\n",
    "for i in range (0,len(num)) :\n",
    "    if num[i] < small :\n",
    "        small = num[i]\n",
    "\n",
    "    if num[i] > large :\n",
    "        large = num[i]\n",
    "print(small)\n",
    "print (large)\n",
    "s = 0\n",
    "for i in range (len(num)):\n",
    "    if (num[i]!=small and num[i]!=large):\n",
    "        s+=num[i]\n",
    "\n",
    "print(s)"
   ]
  },
  {
   "cell_type": "markdown",
   "id": "6f8245c6-05c2-41a1-ac11-07c389619b47",
   "metadata": {},
   "source": [
    "# Intermediate "
   ]
  },
  {
   "cell_type": "markdown",
   "id": "96489ca1-e71d-454c-be12-893209dc0d91",
   "metadata": {},
   "source": [
    "9) Write a Python program to check if a list is a palindrome (reads the same backward\n",
    "as forward) using two pointer approach\n",
    "a. numbers = [1, 2, 3, 2, 1]\n",
    "b. True"
   ]
  },
  {
   "cell_type": "code",
   "execution_count": 119,
   "id": "703df097-9b54-4b97-a9fb-445d317bf19e",
   "metadata": {},
   "outputs": [
    {
     "name": "stdout",
     "output_type": "stream",
     "text": [
      "True\n"
     ]
    }
   ],
   "source": [
    "ls = [1, 2, 3, 2, 1]\n",
    "start = 0\n",
    "end = len(ls)-1\n",
    "palindrome = True \n",
    "while (start<end):\n",
    "    if ls[start] != ls[end] :\n",
    "        palindrome = False \n",
    "        break\n",
    "\n",
    "    start+=1\n",
    "    end-=1\n",
    "\n",
    "print(palindrome)\n",
    "        "
   ]
  },
  {
   "cell_type": "markdown",
   "id": "344b1ab6-a1c5-47e0-b37b-36b22c0bf64f",
   "metadata": {},
   "source": [
    "10) Write a function to remove duplicate elements from a list.\n",
    "a. numbers = [1, 2, 3, 2, 4, 5, 1, 6]\n",
    "b. [1, 2, 3, 4, 5, 6]"
   ]
  },
  {
   "cell_type": "code",
   "execution_count": 123,
   "id": "77ec3084-0dfb-4b81-8d87-8cde18fb2bda",
   "metadata": {},
   "outputs": [
    {
     "name": "stdout",
     "output_type": "stream",
     "text": [
      "[1, 2, 3, 4, 5, 6]\n"
     ]
    }
   ],
   "source": [
    "ls = [1, 2, 3, 2, 4, 5, 1, 6]\n",
    "ls1= [] \n",
    "\n",
    "for i in range (len(ls)):\n",
    "    if ls[i] not in ls1:\n",
    "        ls1.append(ls[i])\n",
    "        \n",
    "        \n",
    "print(ls1)\n",
    "\n"
   ]
  },
  {
   "cell_type": "markdown",
   "id": "04f39a88-3dde-48a9-b62a-ee5f1c204985",
   "metadata": {},
   "source": [
    "11) Find Common Elements in Two Lists\n",
    "a. list1 = [1, 2, 3, 4, 5]\n",
    "b. list2 = [3, 4, 5, 6, 7]\n",
    "c. Result: [3, 4, 5]"
   ]
  },
  {
   "cell_type": "code",
   "execution_count": 125,
   "id": "0965d0e6-aada-4e89-97b3-faf79b103d60",
   "metadata": {},
   "outputs": [
    {
     "name": "stdout",
     "output_type": "stream",
     "text": [
      "commom [3, 4, 5]\n"
     ]
    }
   ],
   "source": [
    "list1 = [1, 2, 3, 4, 5]\n",
    "list2 = [3, 4, 5, 6, 7]\n",
    "ls = []\n",
    "for i in list1:\n",
    "    for j in list2:\n",
    "        if i==j:\n",
    "            ls.append(i)\n",
    "\n",
    "print(\"commom\",ls)"
   ]
  },
  {
   "cell_type": "markdown",
   "id": "3d3bb23e-1823-49e5-99cb-ad96927516b1",
   "metadata": {},
   "source": [
    "12) Find the Longest Word in a List\n",
    "a. words = [\"apple\", \"banana\", \"strawberry\", \"kiwi\"]\n",
    "b. Strawberry"
   ]
  },
  {
   "cell_type": "code",
   "execution_count": 126,
   "id": "5eaafbeb-19d3-457a-9e2c-021f5ddf40d0",
   "metadata": {},
   "outputs": [
    {
     "name": "stdout",
     "output_type": "stream",
     "text": [
      "strawberry\n"
     ]
    }
   ],
   "source": [
    "\n",
    "words = [\"apple\", \"banana\", \"strawberry\", \"kiwi\"]\n",
    "ls =\"\"\n",
    "for i in words:\n",
    "    if len(i) >len(ls):\n",
    "        ls = i\n",
    "\n",
    "print(ls)"
   ]
  },
  {
   "cell_type": "markdown",
   "id": "1bc93e93-c236-49b7-935c-a3643ae7d844",
   "metadata": {},
   "source": [
    "# Advance"
   ]
  },
  {
   "cell_type": "markdown",
   "id": "7ab154bd-2786-4a09-970c-f2f7bf1358ff",
   "metadata": {},
   "source": [
    "13) Find Missing Number in a List\n",
    "You are given a list of n-1 numbers in the range 1 to n. One number is missing\n",
    "from the sequence. Find the missing number.\n",
    "a. numbers = [1, 2, 4, 5, 6]\n",
    "b. "
   ]
  },
  {
   "cell_type": "code",
   "execution_count": 10,
   "id": "2240b093-71c0-483b-9273-e27b4de4dc5b",
   "metadata": {},
   "outputs": [
    {
     "name": "stdout",
     "output_type": "stream",
     "text": [
      "3\n"
     ]
    }
   ],
   "source": [
    "n =[ 1, 2, 4, 5, 6]\n",
    "a = n[0]\n",
    "for i in n:\n",
    "    if a != i :\n",
    "        print(a)\n",
    "        break\n",
    "    a+=1\n"
   ]
  },
  {
   "cell_type": "markdown",
   "id": "4b5b01a8-ddd3-4e48-8e66-f69a4ac84a88",
   "metadata": {},
   "source": [
    "14 ) Find the First Non-Repeating Element\n",
    "Given a list of integers, find the first element that appears only once.\n",
    "a. numbers = [4, 5, 1, 2, 0, 5,4, 2]\n",
    "b. Expected Output: 1"
   ]
  },
  {
   "cell_type": "code",
   "execution_count": 28,
   "id": "0c78a8af-ac4d-4608-9c71-c67def8ffd86",
   "metadata": {},
   "outputs": [
    {
     "name": "stdout",
     "output_type": "stream",
     "text": [
      "1\n"
     ]
    }
   ],
   "source": [
    "ls = [4, 5, 1, 4,2,5, 0, 2]\n",
    "for i in ls :\n",
    "    if ls.count(i) == 1 :\n",
    "        print(i)\n",
    "        break"
   ]
  },
  {
   "cell_type": "markdown",
   "id": "e95e965e-05c1-4b7f-b338-6150c2be8b92",
   "metadata": {},
   "source": [
    "15) Move All Zeros to the End\n",
    "Given a list of integers, move all zeros to the end while maintaining the relative order\n",
    "of non-zero elements. Don’t use any inbuilt functions\n",
    "a. numbers = [0, 1, 0, 3, 12]\n",
    "b. [1, 3, 12, 0, 0]"
   ]
  },
  {
   "cell_type": "code",
   "execution_count": 42,
   "id": "bbde79fa-02b5-44c3-b3da-aa11b0145d41",
   "metadata": {},
   "outputs": [
    {
     "name": "stdout",
     "output_type": "stream",
     "text": [
      "[1, 3, 12, 0, 0]\n"
     ]
    }
   ],
   "source": [
    "a = [0, 1, 0, 3, 12]\n",
    "b= 0\n",
    "for i in range (len(a)) :\n",
    "    if a[i] != 0:\n",
    "        a[b],a[i] = a[i],a[b]\n",
    "        b+=1\n",
    "\n",
    "print(a)"
   ]
  },
  {
   "cell_type": "markdown",
   "id": "2a49f25c-646f-4e10-aa13-cdf4f771f6fb",
   "metadata": {},
   "source": [
    "16) Find Elements Greater Than Their Left Neighbor\n",
    "a. numbers = [1, 3, 2, 6, 5, 8, 7]\n",
    "b. [3, 6, 8]"
   ]
  },
  {
   "cell_type": "code",
   "execution_count": 43,
   "id": "a2717e2c-0540-4771-bddd-fa7a8f4f71e9",
   "metadata": {},
   "outputs": [
    {
     "name": "stdout",
     "output_type": "stream",
     "text": [
      "[3, 6, 8]\n"
     ]
    }
   ],
   "source": [
    "ls =  [1, 3, 2, 6, 5, 8, 7]\n",
    "ls1 = []\n",
    "for i in range (0,len(ls)):\n",
    "    for j in range (i+1,len(ls)):\n",
    "        if ls[i]>ls[j]:\n",
    "            ls1.append(ls[i])\n",
    "            break\n",
    "\n",
    "print(ls1)"
   ]
  },
  {
   "cell_type": "markdown",
   "id": "0c7e5602-20f1-40c3-b5c4-d13fe99a9a65",
   "metadata": {},
   "source": [
    "17) Find Triplets That Sum to Zero\n",
    "Given a list of numbers, find all unique triplets (a, b, c) such that a + b + c = 0.\n",
    "a. numbers = [-1, 0, 1, 2, -1, -4]\n",
    "b. Expected Output: [(-1, -1, 2), (-1, 0, 1)]"
   ]
  },
  {
   "cell_type": "code",
   "execution_count": 48,
   "id": "8f89d014-ad48-4696-826c-5da5822f2d69",
   "metadata": {},
   "outputs": [
    {
     "name": "stdout",
     "output_type": "stream",
     "text": [
      "[(-1, 0, 1)][(-1, 2, -1)][(0, 1, -1)]"
     ]
    }
   ],
   "source": [
    "ls = [-1, 0, 1, 2, -1, -4]\n",
    "target = 0\n",
    "for i in range (0,len(ls)):\n",
    "    for j in range (i+1,len(ls)):\n",
    "        for k in range (j+1,len(ls)):\n",
    "            if (ls[i] + ls[j] + ls[k] == target):\n",
    "                print([(ls[i],ls[j],ls[k] )],end = \"\")\n",
    "                "
   ]
  },
  {
   "cell_type": "code",
   "execution_count": null,
   "id": "510cd1dc-a34c-43a1-ac25-b0e1234fe1c1",
   "metadata": {},
   "outputs": [],
   "source": []
  }
 ],
 "metadata": {
  "kernelspec": {
   "display_name": "Python 3 (ipykernel)",
   "language": "python",
   "name": "python3"
  },
  "language_info": {
   "codemirror_mode": {
    "name": "ipython",
    "version": 3
   },
   "file_extension": ".py",
   "mimetype": "text/x-python",
   "name": "python",
   "nbconvert_exporter": "python",
   "pygments_lexer": "ipython3",
   "version": "3.12.7"
  }
 },
 "nbformat": 4,
 "nbformat_minor": 5
}
