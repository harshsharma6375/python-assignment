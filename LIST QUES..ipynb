{
 "cells": [
  {
   "cell_type": "markdown",
   "id": "5acbc437-7bb7-4fc7-8bff-caeb69218339",
   "metadata": {},
   "source": [
    "Q1) Write a loop from 1 to 100 and print the sum of cummulative value ."
   ]
  },
  {
   "cell_type": "code",
   "execution_count": 16,
   "id": "98d76c35-7531-4c15-bd3a-e51771956ae4",
   "metadata": {},
   "outputs": [
    {
     "name": "stdout",
     "output_type": "stream",
     "text": [
      "5050 "
     ]
    }
   ],
   "source": [
    "s = 0\n",
    "for i in range(1,101):\n",
    "    s +=i\n",
    "print(s,end = \" \")"
   ]
  },
  {
   "cell_type": "markdown",
   "id": "754842d2-99e2-4273-affe-3c56bc0761e5",
   "metadata": {},
   "source": [
    "Q2) Take a input from the user and print all its  factors ."
   ]
  },
  {
   "cell_type": "code",
   "execution_count": 29,
   "id": "0f07e83f-53a0-4465-ac0d-63ca3dd15b9a",
   "metadata": {},
   "outputs": [
    {
     "name": "stdin",
     "output_type": "stream",
     "text": [
      "enter the number :  8\n"
     ]
    },
    {
     "name": "stdout",
     "output_type": "stream",
     "text": [
      "1\n",
      "2\n",
      "4\n",
      "8\n"
     ]
    }
   ],
   "source": [
    "n = int(input (\"enter the number : \"))\n",
    "for i in range (1,n+1):\n",
    "    if (n%i==0):\n",
    "        print(i)\n",
    "    "
   ]
  },
  {
   "cell_type": "markdown",
   "id": "9547d15b-649e-4225-93a5-f4f249b34158",
   "metadata": {},
   "source": [
    "Q3) Take a input from the user and check if the number has more than 2 factors.\n"
   ]
  },
  {
   "cell_type": "code",
   "execution_count": 52,
   "id": "2529f1fb-0c06-402a-b9c6-9097593cccfb",
   "metadata": {},
   "outputs": [
    {
     "name": "stdin",
     "output_type": "stream",
     "text": [
      "enter the number :  10\n"
     ]
    },
    {
     "name": "stdout",
     "output_type": "stream",
     "text": [
      "more than 2 factor 4\n"
     ]
    }
   ],
   "source": [
    "n = int(input(\"enter the number : \"))\n",
    "c = 0\n",
    "for i in range (1,n+1):\n",
    "    if(n%i==0):\n",
    "        c+=1\n",
    "if (c>2):\n",
    "    print(\"more than 2 factor\",c)\n",
    "    \n",
    "\n",
    "else:\n",
    "    print('not more than 2 factor')\n"
   ]
  },
  {
   "cell_type": "markdown",
   "id": "c8f08e1f-6617-40f6-8246-0279d3b3ad9a",
   "metadata": {},
   "source": [
    "Q4)Take out the odd number from the list."
   ]
  },
  {
   "cell_type": "code",
   "execution_count": 56,
   "id": "c032278f-1770-417c-b8c3-144e0e1eb258",
   "metadata": {},
   "outputs": [
    {
     "name": "stdout",
     "output_type": "stream",
     "text": [
      "[1, 3, 5, 7, 11, 13, 15, 17]\n"
     ]
    }
   ],
   "source": [
    "a=[1,2,3,4,5,6,7]\n",
    "b=[11,12,13,14,15,16,17]\n",
    "c =[]\n",
    "for i in  a:\n",
    "    if (i%2==1):\n",
    "        c.append(i)\n",
    "for i in  b:\n",
    "    if (i%2==1):\n",
    "        c.append(i)\n",
    "print(c)"
   ]
  },
  {
   "cell_type": "markdown",
   "id": "56cf630e-6160-490c-955c-950b346916dd",
   "metadata": {},
   "source": [
    "Q5) Take a number and check number is palindrome or not ."
   ]
  },
  {
   "cell_type": "code",
   "execution_count": 58,
   "id": "e6eda00c-bd5a-4b07-a49d-4a2171605de9",
   "metadata": {},
   "outputs": [
    {
     "name": "stdin",
     "output_type": "stream",
     "text": [
      "enter the number : 151\n"
     ]
    },
    {
     "name": "stdout",
     "output_type": "stream",
     "text": [
      "palindrome\n"
     ]
    }
   ],
   "source": [
    "n = int(input(\"enter the number :\"))\n",
    "rem = 0\n",
    "temp = n\n",
    "s=0\n",
    "while(n>0):\n",
    "    rem = n%10\n",
    "    s = s*10+rem\n",
    "    n = n//10\n",
    "\n",
    "if (s==temp):\n",
    "    print(\"palindrome\")\n",
    "\n",
    "else:\n",
    "    print(\"not\")"
   ]
  },
  {
   "cell_type": "markdown",
   "id": "0417364e-cbef-46a0-bac7-c46e21e4910f",
   "metadata": {},
   "source": [
    "Q6)WAP to check the lcm of two number ."
   ]
  },
  {
   "cell_type": "code",
   "execution_count": 1,
   "id": "3d8fdc4e-72d6-42e3-86f1-ee7ffe655df9",
   "metadata": {},
   "outputs": [
    {
     "name": "stdin",
     "output_type": "stream",
     "text": [
      "enter the number: 5\n",
      "enter the number: 8\n"
     ]
    },
    {
     "name": "stdout",
     "output_type": "stream",
     "text": [
      "the lcm is 40\n"
     ]
    }
   ],
   "source": [
    "x = int(input(\"enter the number:\"))\n",
    "y = int(input(\"enter the number:\"))\n",
    "\n",
    "if x>y:\n",
    "    greater = x\n",
    "else:\n",
    "    greater = y\n",
    "while True:\n",
    "    if(greater % x ==0 and greater % y ==0):\n",
    "        lcm = greater\n",
    "        break\n",
    "    greater += 1\n",
    "print(\"the lcm is\",lcm)"
   ]
  },
  {
   "cell_type": "markdown",
   "id": "9b10d035-1205-44ff-bba6-f2103b0d46ee",
   "metadata": {},
   "source": [
    "Q7)write a program to print factorial of number ."
   ]
  },
  {
   "cell_type": "code",
   "execution_count": 70,
   "id": "fb2eb75c-fa04-4431-bc94-20113b83ff87",
   "metadata": {},
   "outputs": [
    {
     "name": "stdout",
     "output_type": "stream",
     "text": [
      "120\n"
     ]
    }
   ],
   "source": [
    "f = 5\n",
    "for i in range (1,5):\n",
    "    f = f*i\n",
    "print(f)"
   ]
  },
  {
   "cell_type": "markdown",
   "id": "4e7f1c38-9aa1-4164-adc8-1156590dd835",
   "metadata": {},
   "source": [
    "Q8) Take a list containing all the number and do the following task\n",
    "\n",
    "1) find the maximum value from list\n",
    "2)find minimum value \n",
    "3) Try to arrange the list element in ascending order \n",
    "4)Find the second highest number from the list."
   ]
  },
  {
   "cell_type": "code",
   "execution_count": 6,
   "id": "7efcd612-a6bd-4790-b348-82ce59c93501",
   "metadata": {},
   "outputs": [
    {
     "name": "stdout",
     "output_type": "stream",
     "text": [
      "max 20\n",
      "min 2\n",
      "[2, 8, 10, 20]\n",
      "second last highest: 10\n"
     ]
    }
   ],
   "source": [
    "ls = [10,20,8,2]\n",
    "max_value = ls [0]\n",
    "min_value = ls [0]\n",
    "temp = 0\n",
    "smax = 0\n",
    "max1 = 0\n",
    "for i in range(0,len(ls)):\n",
    "\n",
    "    if (ls[i]>max_value):\n",
    "        max_value = ls[i]\n",
    "        \n",
    "        \n",
    "\n",
    "\n",
    "    if(min_value>ls[i]):\n",
    "        min_value = ls[i]\n",
    "print(\"max\",max_value)\n",
    "print(\"min\",min_value)\n",
    "for i in range (0,len(ls)):\n",
    "    for j in range (i+1,len(ls)):\n",
    "        if (ls[i] > ls[j]):\n",
    "            temp = ls[i]\n",
    "            ls[i] = ls[j]\n",
    "            ls[j] = temp\n",
    "print(ls)\n",
    "#a = ls[-2]\n",
    "#print(\"second max\",a)\n",
    "\n",
    "\n",
    "for i in range (0,len(ls)) :\n",
    "    if (ls[i] > max1 ):\n",
    "        smax = max1\n",
    "        max1 = ls[i]\n",
    "    elif(ls[i]> smax and ls[i] != max1):\n",
    "        smax = ls[i]\n",
    "\n",
    "print(\"second last highest:\", smax)"
   ]
  },
  {
   "cell_type": "code",
   "execution_count": null,
   "id": "477a8491-4772-4606-afb4-61edbbb44af3",
   "metadata": {},
   "outputs": [],
   "source": []
  }
 ],
 "metadata": {
  "kernelspec": {
   "display_name": "Python 3 (ipykernel)",
   "language": "python",
   "name": "python3"
  },
  "language_info": {
   "codemirror_mode": {
    "name": "ipython",
    "version": 3
   },
   "file_extension": ".py",
   "mimetype": "text/x-python",
   "name": "python",
   "nbconvert_exporter": "python",
   "pygments_lexer": "ipython3",
   "version": "3.12.7"
  }
 },
 "nbformat": 4,
 "nbformat_minor": 5
}
