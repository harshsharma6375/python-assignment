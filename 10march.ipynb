{
 "cells": [
  {
   "cell_type": "markdown",
   "id": "118cb582-5ee1-4a6d-b132-cb2f031f4f1d",
   "metadata": {},
   "source": [
    " Patterns "
   ]
  },
  {
   "cell_type": "code",
   "execution_count": 14,
   "id": "58d7cea0-f90c-47e1-9623-214e7e43ca7f",
   "metadata": {},
   "outputs": [
    {
     "name": "stdout",
     "output_type": "stream",
     "text": [
      "  * * * * \n",
      "    * * * * \n",
      "      * * * * \n",
      "        * * * * \n"
     ]
    }
   ],
   "source": [
    "num = 5\n",
    "for i in range (5,1,-1):\n",
    "    for j in range (i,6):\n",
    "        print(\" \",end = \" \")\n",
    "\n",
    "    for k in range (1,5):\n",
    "        print(\"*\",end= \" \")\n",
    "\n",
    "    print()"
   ]
  },
  {
   "cell_type": "code",
   "execution_count": 90,
   "id": "62167f2c-4fe9-4f21-b27b-1f215dbe3aee",
   "metadata": {},
   "outputs": [
    {
     "name": "stdout",
     "output_type": "stream",
     "text": [
      "******\n",
      "*    *\n",
      "*    *\n",
      "******\n"
     ]
    }
   ],
   "source": [
    "num = 4\n",
    "for i in range (1,5):\n",
    "    for j in range (1,num+3):\n",
    "        if i == 1 or j==1 or j==num+2 or i==num:\n",
    "            print(\"*\" ,end = \"\")\n",
    "        else :\n",
    "            print(\" \", end = \"\")\n",
    "        \n",
    "\n",
    "    print()"
   ]
  },
  {
   "cell_type": "code",
   "execution_count": 4,
   "id": "c39eb597-e9be-4a71-bc7c-8dc1ad21d925",
   "metadata": {},
   "outputs": [
    {
     "name": "stdout",
     "output_type": "stream",
     "text": [
      "A \n",
      "A B \n",
      "A B C \n",
      "A B C D \n",
      "A B C D E \n"
     ]
    }
   ],
   "source": [
    "\n",
    "for i in range (1,6):\n",
    "    num = 65\n",
    "    for j in range (1,i+1):\n",
    "        print(chr(num),end = \" \")\n",
    "        num+=1\n",
    "    \n",
    "\n",
    "    print()"
   ]
  },
  {
   "cell_type": "code",
   "execution_count": 56,
   "id": "9f4b73f9-e8ad-464e-84e9-4db4fb5d8585",
   "metadata": {},
   "outputs": [
    {
     "name": "stdout",
     "output_type": "stream",
     "text": [
      "A \n",
      "B B \n",
      "C C C \n",
      "D D D D \n",
      "E E E E E \n"
     ]
    }
   ],
   "source": [
    "num = 65\n",
    "for i in range (1,6):\n",
    "   \n",
    "    for j in range (i):\n",
    "         print(chr(num),end = \" \")\n",
    "    num+=1     \n",
    "    \n",
    "\n",
    "    print()"
   ]
  },
  {
   "cell_type": "code",
   "execution_count": 12,
   "id": "e5e5786d-794d-4573-9731-1251b01d2b33",
   "metadata": {},
   "outputs": [
    {
     "name": "stdout",
     "output_type": "stream",
     "text": [
      "E \n",
      "D E \n",
      "C D E \n",
      "B C D E \n",
      "A B C D E \n"
     ]
    }
   ],
   "source": [
    "\n",
    "for i in range (5,0,-1):\n",
    "    num = 64 + i \n",
    "    for j in range (i,6):\n",
    "         print(chr(num),end = \" \")\n",
    "         num+=1     \n",
    "    \n",
    "\n",
    "    print()"
   ]
  },
  {
   "cell_type": "code",
   "execution_count": 28,
   "id": "cd167ba3-529c-422f-a6e9-fbf56bb38521",
   "metadata": {},
   "outputs": [
    {
     "name": "stdout",
     "output_type": "stream",
     "text": [
      "        * \n",
      "      * * \n",
      "    * * * \n",
      "  * * * * \n",
      "* * * * * \n"
     ]
    }
   ],
   "source": [
    "\n",
    "for i in range (1,6):\n",
    "    for j in range (i,5):\n",
    "        print(\" \",end= \" \")\n",
    "    for k in range (1,i+1):\n",
    "        print(\"*\",end = \" \")\n",
    "\n",
    "    print()"
   ]
  },
  {
   "cell_type": "code",
   "execution_count": 45,
   "id": "f47a3de4-93b3-48b4-9b44-f42cda84b04f",
   "metadata": {},
   "outputs": [
    {
     "name": "stdout",
     "output_type": "stream",
     "text": [
      "        1 \n",
      "      1 2 \n",
      "    1 2 3 \n",
      "  1 2 3 4 \n",
      "1 2 3 4 5 \n"
     ]
    }
   ],
   "source": [
    "for i in range (1,6):\n",
    "    for j in range (i,5):\n",
    "        print(\" \",end = \" \")\n",
    "\n",
    "    for k in range (1,i+1):\n",
    "        print(k,end= \" \")\n",
    "\n",
    "    print()\n",
    "        "
   ]
  },
  {
   "cell_type": "code",
   "execution_count": null,
   "id": "abbcfbd3-b0e8-44f0-8548-1cb8790127ab",
   "metadata": {},
   "outputs": [],
   "source": []
  },
  {
   "cell_type": "code",
   "execution_count": 52,
   "id": "39cfd044-4d52-434d-af5b-1a50119f05ca",
   "metadata": {},
   "outputs": [
    {
     "name": "stdout",
     "output_type": "stream",
     "text": [
      "1 2 3 4 5 \n",
      "  1 2 3 4 \n",
      "    1 2 3 \n",
      "      1 2 \n",
      "        1 \n"
     ]
    }
   ],
   "source": [
    "for i in range (5,0,-1):\n",
    "    for j in range (i,5):\n",
    "        print(\" \",end = \" \")\n",
    "\n",
    "    for k in range (1,i+1):\n",
    "        print(k,end= \" \")\n",
    "\n",
    "    print()\n",
    "        "
   ]
  },
  {
   "cell_type": "code",
   "execution_count": 62,
   "id": "8fedd0e3-5ce3-44d7-be7f-916398985e63",
   "metadata": {},
   "outputs": [
    {
     "name": "stdout",
     "output_type": "stream",
     "text": [
      "A B C D E \n",
      "  A B C D \n",
      "    A B C \n",
      "      A B \n",
      "        A \n"
     ]
    }
   ],
   "source": [
    "for i in range (5,0,-1):\n",
    "    num = 65\n",
    "    for j in range (i,5):\n",
    "        print(\" \",end = \" \")\n",
    "    for k in range (1,i+1):\n",
    "        print(chr(num),end= \" \")\n",
    "        num+=1\n",
    "    print()\n",
    "        "
   ]
  },
  {
   "cell_type": "code",
   "execution_count": 73,
   "id": "77559c2c-0b26-444c-9494-4db7d2d79d34",
   "metadata": {},
   "outputs": [
    {
     "name": "stdout",
     "output_type": "stream",
     "text": [
      "          * * * * * \n",
      "        * * * * * \n",
      "      * * * * * \n",
      "    * * * * * \n",
      "  * * * * * \n"
     ]
    }
   ],
   "source": [
    "num = 5\n",
    "for i in range (1,6):\n",
    "    for j in range (i,6):\n",
    "        print(\" \",end = \" \")\n",
    "\n",
    "    for k in range (1,6):\n",
    "        print(\"*\",end= \" \")\n",
    "\n",
    "    print()"
   ]
  },
  {
   "cell_type": "code",
   "execution_count": 74,
   "id": "c7baa852-e72e-45a7-946f-a5eeaa528c84",
   "metadata": {},
   "outputs": [
    {
     "name": "stdout",
     "output_type": "stream",
     "text": [
      "          A B C D E \n",
      "        A B C D E \n",
      "      A B C D E \n",
      "    A B C D E \n",
      "  A B C D E \n"
     ]
    }
   ],
   "source": [
    "\n",
    "for i in range (1,6):\n",
    "    num = 65\n",
    "    for j in range (i,6):\n",
    "        print(\" \",end = \" \")\n",
    "\n",
    "    for k in range (1,6):\n",
    "        print(chr(num),end= \" \")\n",
    "        num+=1\n",
    "\n",
    "    print()"
   ]
  },
  {
   "cell_type": "code",
   "execution_count": 75,
   "id": "2dc1d4d4-da17-4e9e-ab88-4069006af643",
   "metadata": {},
   "outputs": [
    {
     "name": "stdout",
     "output_type": "stream",
     "text": [
      "          1 2 3 4 5 \n",
      "        1 2 3 4 5 \n",
      "      1 2 3 4 5 \n",
      "    1 2 3 4 5 \n",
      "  1 2 3 4 5 \n"
     ]
    }
   ],
   "source": [
    "for i in range (1,6):\n",
    "   \n",
    "    for j in range (i,6):\n",
    "        print(\" \",end = \" \")\n",
    "\n",
    "    for k in range (1,6):\n",
    "        print(k,end= \" \")\n",
    "        num+=1\n",
    "\n",
    "    print()"
   ]
  },
  {
   "cell_type": "code",
   "execution_count": null,
   "id": "e5ee4592-2d06-4f9c-ade4-3ffe888453ea",
   "metadata": {},
   "outputs": [],
   "source": []
  }
 ],
 "metadata": {
  "kernelspec": {
   "display_name": "Python 3 (ipykernel)",
   "language": "python",
   "name": "python3"
  },
  "language_info": {
   "codemirror_mode": {
    "name": "ipython",
    "version": 3
   },
   "file_extension": ".py",
   "mimetype": "text/x-python",
   "name": "python",
   "nbconvert_exporter": "python",
   "pygments_lexer": "ipython3",
   "version": "3.12.7"
  }
 },
 "nbformat": 4,
 "nbformat_minor": 5
}
