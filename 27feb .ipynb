{
 "cells": [
  {
   "cell_type": "code",
   "execution_count": null,
   "id": "2e72b7e3-8446-41a8-a163-d081995dfdd1",
   "metadata": {},
   "outputs": [],
   "source": []
  },
  {
   "cell_type": "markdown",
   "id": "43fa48c6-a2c9-4b0c-92b4-c531b641be1f",
   "metadata": {},
   "source": [
    "Q1 Write a program that takes an integer input from the user and checks whether the number is odd or\n",
    "even."
   ]
  },
  {
   "cell_type": "code",
   "execution_count": 3,
   "id": "402fbc6c-301e-45b4-ac9f-8357c939e7f7",
   "metadata": {},
   "outputs": [
    {
     "name": "stdin",
     "output_type": "stream",
     "text": [
      "enter the number  54\n"
     ]
    },
    {
     "name": "stdout",
     "output_type": "stream",
     "text": [
      "even\n"
     ]
    }
   ],
   "source": [
    "num = int(input(\"enter the number \"))\n",
    "if  (num%2 == 0):\n",
    "    print(\"even\")\n",
    "else :\n",
    "    print(\"odd\")"
   ]
  },
  {
   "cell_type": "markdown",
   "id": "f042363f-c548-42ad-b260-4d05b8a45d88",
   "metadata": {},
   "source": [
    "Q2 Write a program that takes three numbers as input and prints the largest of the three."
   ]
  },
  {
   "cell_type": "code",
   "execution_count": 4,
   "id": "d39f72f6-9d80-4d95-a5d8-e7193b30b17b",
   "metadata": {},
   "outputs": [
    {
     "name": "stdin",
     "output_type": "stream",
     "text": [
      "enter the number  5\n",
      "enter the number  6\n",
      "enter the number  4\n"
     ]
    },
    {
     "name": "stdout",
     "output_type": "stream",
     "text": [
      "b is largest\n"
     ]
    }
   ],
   "source": [
    "a = int(input(\"enter the number \"))\n",
    "b = int(input(\"enter the number \"))\n",
    "c = int(input(\"enter the number \"))\n",
    "if (a>b) and (a>c):\n",
    "    print(\"a is largest\")\n",
    "elif (b>a) and (b>c):\n",
    "    print(\"b is largest\")\n",
    "else :\n",
    "    print(\"c is largest\")"
   ]
  },
  {
   "cell_type": "markdown",
   "id": "24f0680e-da82-492a-b0a2-21777ac323cc",
   "metadata": {},
   "source": [
    "Q3 Write a program to check if a given year is a leap year. A leap year is divisible by 4 but not by 100\n",
    "unless it is also divisible by 400."
   ]
  },
  {
   "cell_type": "code",
   "execution_count": 9,
   "id": "b2c755ac-3f79-442b-9c9a-a28184ad028f",
   "metadata": {},
   "outputs": [
    {
     "name": "stdin",
     "output_type": "stream",
     "text": [
      "enter the number  2024\n"
     ]
    },
    {
     "name": "stdout",
     "output_type": "stream",
     "text": [
      "leap year \n"
     ]
    }
   ],
   "source": [
    "a = int(input(\"enter the number \"))\n",
    "if  (a%4==0  and a%100!=0) or (a%400==0):\n",
    "    print(\"leap year \")\n",
    "else :\n",
    "    (\"not leap year \")"
   ]
  },
  {
   "cell_type": "markdown",
   "id": "b62954b9-e81d-4fa3-a8af-3c86c5a9bbeb",
   "metadata": {},
   "source": [
    "Q4 Write a program that takes a percentage (integer) as input and prints the corresponding grade based\n",
    "on the following criteria:\n",
    ">= 90: Grade A\n",
    ">= 80: Grade B\n",
    ">= 70: Grade C\n",
    ">= 60: Grade D\n",
    "< 60: Grade F"
   ]
  },
  {
   "cell_type": "code",
   "execution_count": 17,
   "id": "3f5abd55-9d4a-4387-93fa-4b675f84cb27",
   "metadata": {},
   "outputs": [
    {
     "name": "stdin",
     "output_type": "stream",
     "text": [
      "enter the number  65\n"
     ]
    },
    {
     "name": "stdout",
     "output_type": "stream",
     "text": [
      "grade D\n"
     ]
    }
   ],
   "source": [
    "marks = int(input(\"enter the number \"))\n",
    "if (90<=marks):\n",
    "    print(\"grade A\")\n",
    "elif (80<=marks):\n",
    "    print(\"grade B\")\n",
    "elif (70<=marks):\n",
    "    print(\"grade C\")\n",
    "elif (60<=marks):\n",
    "    print(\"grade D\")\n",
    "elif (60>marks):\n",
    "    print(\"grade F\")\n",
    "else:\n",
    "    print(\"invalid number \")\n",
    "\n",
    "            "
   ]
  },
  {
   "cell_type": "markdown",
   "id": "53e65c8a-0815-4889-8927-5fa503ac40ff",
   "metadata": {},
   "source": [
    "Q5 Write a program that checks if a given letter is a vowel (a, e, i, o, u) or a consonant."
   ]
  },
  {
   "cell_type": "code",
   "execution_count": 18,
   "id": "fb2a0113-ec65-4c8b-9de1-9808c521532e",
   "metadata": {},
   "outputs": [
    {
     "name": "stdin",
     "output_type": "stream",
     "text": [
      "enter the character: a\n"
     ]
    },
    {
     "name": "stdout",
     "output_type": "stream",
     "text": [
      "VOWELS\n"
     ]
    }
   ],
   "source": [
    "a = input(\"enter the character:\")\n",
    "if(a =='a' or  a =='e' or a =='i' or a =='o' or a =='u'):\n",
    "    print(\"vowels\")\n",
    "else:\n",
    "    print(\"consonant\")"
   ]
  },
  {
   "cell_type": "markdown",
   "id": "59336b67-5e38-46a6-a0b2-e176cc869e48",
   "metadata": {},
   "source": [
    "Q6 Write a basic calculator program that takes two numbers and an operator (+, -, *, /) as input and\n",
    "performs the specified operation. Print the result based on the operation."
   ]
  },
  {
   "cell_type": "code",
   "execution_count": 19,
   "id": "f3d7097e-5d98-4e8e-8510-6b0fa5991f1b",
   "metadata": {},
   "outputs": [
    {
     "name": "stdin",
     "output_type": "stream",
     "text": [
      "enter the first number  56\n",
      "enter the second number  65\n",
      "enter the operator(+,-,*,/) -\n"
     ]
    },
    {
     "name": "stdout",
     "output_type": "stream",
     "text": [
      "result -9.0\n"
     ]
    }
   ],
   "source": [
    "a = float (input(\"enter the first number \"))\n",
    "b = float(input(\"enter the second number \"))\n",
    "op = input (\"enter the operator(+,-,*,/)\")\n",
    "if(op == '+'):\n",
    "    print(\"result\",a+b)\n",
    "elif(op == '-'):\n",
    "    print(\"result\",a-b)\n",
    "elif(op == '*'):\n",
    "    print(\"result\",a*b)\n",
    "elif(op == '/'):\n",
    "    print(\"result\",a/b)\n",
    "else:\n",
    "    print(\"not valid input\")\n",
    "            "
   ]
  },
  {
   "cell_type": "markdown",
   "id": "71572301-9518-4556-a068-c1a7f34dcb86",
   "metadata": {},
   "source": [
    "Q7 Write a program that takes a number as input and checks whether it is positive, negative, or zero."
   ]
  },
  {
   "cell_type": "code",
   "execution_count": 22,
   "id": "8cf6e17a-8de6-4b77-9930-cadc0fbeada7",
   "metadata": {},
   "outputs": [
    {
     "name": "stdin",
     "output_type": "stream",
     "text": [
      "enter the number: -5\n"
     ]
    },
    {
     "name": "stdout",
     "output_type": "stream",
     "text": [
      "the number is negative:\n"
     ]
    }
   ],
   "source": [
    "a = int(input(\"enter the number:\"))\n",
    "if(a>0):\n",
    "    print(\"the number is positive:\")\n",
    "elif(a<0):\n",
    "    print(\"the number is negative:\")\n",
    "else:\n",
    "    print(\"the number is zero \")"
   ]
  },
  {
   "cell_type": "markdown",
   "id": "7e71f44c-d833-4067-b1f1-92498f39636f",
   "metadata": {},
   "source": [
    "Q8 Write a program that checks if a username and password entered by the user match the pre-set values\n",
    "username = \"admin\" and password = \"1234\". If both match, print \"Login Successful\", otherwise print\n",
    "\"Login Failed\"."
   ]
  },
  {
   "cell_type": "code",
   "execution_count": 24,
   "id": "579d4e71-9620-492e-94cc-b07f5cd499c6",
   "metadata": {},
   "outputs": [
    {
     "name": "stdin",
     "output_type": "stream",
     "text": [
      "enter username admin\n",
      "enter the password 1234\n"
     ]
    },
    {
     "name": "stdout",
     "output_type": "stream",
     "text": [
      "login successful\n"
     ]
    }
   ],
   "source": [
    "username = input(\"enter username\")\n",
    "password = int(input(\"enter the password\"))\n",
    "if (username == \"admin\" and password == 1234):\n",
    "    print(\"login successful\")\n",
    "else:\n",
    "    print(\"login failed\")"
   ]
  },
  {
   "cell_type": "markdown",
   "id": "69b50b52-3da5-4226-b532-480024530e08",
   "metadata": {},
   "source": [
    "Q9 Write a program that takes three sides of a triangle as input and checks if those sides form a valid\n",
    "triangle. A triangle is valid if the sum of any two sides is greater than the third side.\n",
    "Check conditions like a + b > c, b + c > a, and a + c > b."
   ]
  },
  {
   "cell_type": "code",
   "execution_count": 26,
   "id": "59f18548-be48-4dca-89cb-aae39239bd3d",
   "metadata": {},
   "outputs": [
    {
     "name": "stdin",
     "output_type": "stream",
     "text": [
      "enter the number  65\n",
      "enter the number  45\n",
      "enter the number  85\n"
     ]
    },
    {
     "name": "stdout",
     "output_type": "stream",
     "text": [
      "triangle\n"
     ]
    }
   ],
   "source": [
    "a = int(input(\"enter the number \"))\n",
    "b = int(input(\"enter the number \"))\n",
    "c = int(input(\"enter the number \"))\n",
    "if (a+b>c) and (b+c>a) and (a+c>b):\n",
    "    print(\"triangle\")\n",
    "else:\n",
    "    print(\"not valid \")"
   ]
  },
  {
   "cell_type": "markdown",
   "id": "98e5f13e-7055-4e28-9f6e-b42ffe1c1fbd",
   "metadata": {},
   "source": [
    "Q10 Write a program that calculates the Body Mass Index (BMI) based on user input for weight (in\n",
    "kilograms) and height (in meters). Then categorize the BMI into:\n",
    "Underweight (BMI < 18.5)\n",
    "Normal weight (18.5 <= BMI < 24.9)\n",
    "Overweight (25 <= BMI < 29.9)\n",
    "Obesity (BMI >= 30)\n",
    "Use the formula: BMI = weight / (height ** 2)"
   ]
  },
  {
   "cell_type": "code",
   "execution_count": 31,
   "id": "deba8352-f473-4bbf-a097-86941ecb181b",
   "metadata": {},
   "outputs": [
    {
     "name": "stdin",
     "output_type": "stream",
     "text": [
      "enter the weight 88\n",
      "enter the height 3\n"
     ]
    },
    {
     "name": "stdout",
     "output_type": "stream",
     "text": [
      "underweight\n"
     ]
    }
   ],
   "source": [
    "w = int(input(\"enter the weight\"))\n",
    "h = float(input(\"enter the height\"))\n",
    "bmi = w / (h**2)\n",
    "if(bmi<18.5 ):\n",
    "    print(\"underweight\")\n",
    "elif (18.5<= bmi < 24.9):\n",
    "    print(\"normal weight \")\n",
    "elif (25<= bmi < 29.9):\n",
    "    print(\"overweight weight \")\n",
    "elif ( bmi >= 30):\n",
    "    print(\"obesity\")\n",
    "else :\n",
    "    print(\"invalid\")"
   ]
  },
  {
   "cell_type": "code",
   "execution_count": null,
   "id": "e5009842-7404-417a-be9d-3a5e72c99e43",
   "metadata": {},
   "outputs": [],
   "source": []
  }
 ],
 "metadata": {
  "kernelspec": {
   "display_name": "Python 3 (ipykernel)",
   "language": "python",
   "name": "python3"
  },
  "language_info": {
   "codemirror_mode": {
    "name": "ipython",
    "version": 3
   },
   "file_extension": ".py",
   "mimetype": "text/x-python",
   "name": "python",
   "nbconvert_exporter": "python",
   "pygments_lexer": "ipython3",
   "version": "3.12.7"
  }
 },
 "nbformat": 4,
 "nbformat_minor": 5
}
